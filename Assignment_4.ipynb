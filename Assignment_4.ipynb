{
  "nbformat": 4,
  "nbformat_minor": 0,
  "metadata": {
    "colab": {
      "provenance": []
    },
    "kernelspec": {
      "name": "python3",
      "display_name": "Python 3"
    },
    "language_info": {
      "name": "python"
    }
  },
  "cells": [
    {
      "cell_type": "markdown",
      "source": [
        "Q1.What is Object-Oriented Programming (OOP)?\n",
        "\n",
        "Ans:It ia a programming paradigm based on the concept of objects which can contain data and code to manipulate the data.\n",
        "\n",
        "Advantages of oops:\n",
        "\n",
        "1)Code reusability\n",
        "\n",
        "2)Improved data security\n",
        "\n",
        "3) easier maintainance & Debugging\n"
      ],
      "metadata": {
        "id": "cMHkvC-dDxIx"
      }
    },
    {
      "cell_type": "markdown",
      "source": [],
      "metadata": {
        "id": "_ST_rl28asdN"
      }
    },
    {
      "cell_type": "markdown",
      "source": [
        "Q2.What is a class in OOP?\n",
        "\n",
        "Ans: A class is a blueprint/Template for creating an object .\n",
        "\n",
        "A class contains:\n",
        "\n",
        "Attributes and methods.\n",
        "\n",
        "It is defined by a keyword class"
      ],
      "metadata": {
        "id": "JO97lZGuE6VR"
      }
    },
    {
      "cell_type": "markdown",
      "source": [
        "Q3.What is an object in OOP?\n",
        "\n",
        "Ans:An objject is real world entity created from a class .It contains:\n",
        "\n",
        "\n",
        "\n",
        "*   Data(Attributes or properties)\n",
        "*   Functions(Methods or behaviours)\n",
        "\n",
        "Many objects can be created from the same class\n",
        "\n"
      ],
      "metadata": {
        "id": "-qgwB8xbFrsR"
      }
    },
    {
      "cell_type": "markdown",
      "source": [
        "Q4.What is the difference between abstraction and encapsulation?\n",
        "\n",
        "Ans:\n",
        " Abstraction:\n",
        " Concept of hiding a complex implementation.It hides un needed details & exposing the required.\n",
        "\n",
        " * Abstract class  cannot be initated\n",
        " * Abstract class  should always be subclass\n",
        " * Abstract class  may contain methods that are declared but not implemented in the abstract\n",
        " * Abstraction can be acheived by using abstract class by importing import abc\n",
        "\n",
        "Encapsulation:It means to hide something or binding data and the methods that operate on the data into a single unit and restricting the direct access to some of the object componenets.\n",
        "\n",
        "* It helps to protect data from un authorized  access and modification\n",
        "* It is acheived by using  private  protected variables(__var/_var)"
      ],
      "metadata": {
        "id": "N6KcACoQFk2Q"
      }
    },
    {
      "cell_type": "markdown",
      "source": [
        "Q5. What are dunder methods in Python?\n",
        "\n",
        "Ans:\n",
        "Dunder methods (short for double underscore) are special built in methods in python.They are aslo called magic methods.\n",
        "It lets you define how yourr objects behave with built -in python operations.\n",
        "\n",
        "E.g:__init__,__str__,__add__ etc..."
      ],
      "metadata": {
        "id": "TgpNP1ykDxFj"
      }
    },
    {
      "cell_type": "markdown",
      "source": [
        "Q6.Explain the concept of inheritance in OOP?\n",
        "\n",
        "Ans.\n",
        "It is a core concept in oops that allows a class to inherit its properties  and behaviours from another class\n",
        "There are 5 types of Inheritance:\n",
        "\n",
        "* Single Inheritance : one child inherits from one parent\n",
        "* Multilevel Inheritance : one class inherits from another class which itself is derived from another class creating a chain of inheritance.\n",
        "* Multiple Inheritance : one child inherits from multiple parents\n",
        "* Hierarchical Inheritance : Multiple children inherit from one parent\n",
        "* Hybrid Inheritance : multiple types /combination of different inheritance\n",
        "\n"
      ],
      "metadata": {
        "id": "udV0XRY-KCmm"
      }
    },
    {
      "cell_type": "markdown",
      "source": [
        "Q7.What is polymorphism in OOP?\n",
        "\n",
        "Ans: Poly means Many and morphism means forms/States.It refers to an object taking several forms depending on the method /data.\n",
        "\n",
        "It Takes Place in two ways:\n",
        "\n",
        "* Method overiding : Method in parent class and child class with same signature ,The child class method will be executed.\n",
        "* Method Overloading: A method taking different forms the last method overloads the previous  methods. Python doesnot support true overloading."
      ],
      "metadata": {
        "id": "HayXD88MPDBV"
      }
    },
    {
      "cell_type": "markdown",
      "source": [
        "Q8.How is encapsulation achieved in Python?\n",
        "\n",
        "Ans: Encapsulation :It means to hide something or binding data and the methods that operate on the data into a single unit and restricting the direct access to some of the object componenets.\n",
        "\n",
        "It is acheived by using access modifier ,There are 3 types of access modifiers:\n",
        "\n",
        "* Public: Accessible from anywhere from outside/inside the class\n",
        "* Private: The data and method is only accessible within the class .it is defined by double underscore variable name (__)\n",
        "* Protected : within the class and its sub class,It can be accessed by (_)"
      ],
      "metadata": {
        "id": "hheXGDoFQT86"
      }
    },
    {
      "cell_type": "markdown",
      "source": [
        "Q9. What is a constructor in Python?\n",
        "\n",
        "Ans:A constructor is a special method in python thats automatically called when you create  an object of a class .Its main job is to initialize the objects attributes .It sets up the object with initial data.\n",
        "\n"
      ],
      "metadata": {
        "id": "DjWUmcm4Rg4y"
      }
    },
    {
      "cell_type": "markdown",
      "source": [
        "Q10. What are class and static methods in Python?\n",
        "\n",
        "Ans:In Python ,both class methods and static methods are methods that belong to a class ,but they are used differently and serve different purpose\n",
        "\n",
        "Class Method :\n",
        "* belongs to the class not the instance.\n",
        "* Takes cls as the first parameter(not self).\n",
        "* Can access and modify class-level variables.\n",
        "* Declared using the @classmethod decorator.\n",
        "\n",
        "Static Method :\n",
        "* Doesn't take self or cls as the first parameter.\n",
        "* Cannot access or modify class or instance variables.\n",
        "* used for utility/helper function that are related to the class,but dont need access to class or instance data.\n",
        "* Declared using the @staticmethod decorator."
      ],
      "metadata": {
        "id": "JO7DA2rlSzKq"
      }
    },
    {
      "cell_type": "markdown",
      "source": [
        "Q11. What is method overloading in Python?\n",
        "\n",
        "Ans: unlike java or c++ python doesnot support method overloading directly if you define a method multiple times with same method name,the last one overrides all the previous ones.\n"
      ],
      "metadata": {
        "id": "kJYC_GbOUe8_"
      }
    },
    {
      "cell_type": "markdown",
      "source": [
        "Q12.What is method overriding in OOP?\n",
        "\n",
        "Ans:Method overiding : Method in parent class and child class with same signature ,The child class method will be executed."
      ],
      "metadata": {
        "id": "zaLoJj_mVUX2"
      }
    },
    {
      "cell_type": "markdown",
      "source": [
        "Q13.What is a property decorator in Python?\n",
        "\n",
        "Ans: The property decorator in python is used to turn a method into a \"getteer\"-- allowing you to access it like an attribute ,without calling it like a method.\n",
        "\n",
        "It is accessible by @property"
      ],
      "metadata": {
        "id": "Bo8IFr2xVmB_"
      }
    },
    {
      "cell_type": "markdown",
      "source": [
        "Q14.Why is polymorphism important in OOP?\n",
        "\n",
        " Ans:\n",
        " Polymorphism is a key pillar of oop that allows objects of different classes to be treated as objects of a common super class.\n",
        "\n",
        " Importance of Polymorphism:\n",
        "\n",
        " * Code Reusability\n",
        " * Clean & Maintainable code\n",
        " * Extensibility\n",
        " * Flexible interfaces\n"
      ],
      "metadata": {
        "id": "Vfvcb2_AWOZh"
      }
    },
    {
      "cell_type": "markdown",
      "source": [
        "Q15. What is an abstract class in Python?\n",
        "\n",
        "Ans:An Abstract class in python is a class that cannot be instanited directly .It is used as a blueprint for other classes and it may contain one or more abstract methods.To define a common interface for a group of related classes.to enforce that subclasses must implement certain methods.\n",
        "\n",
        "* python uses the abc(Abstract Base Classes)module:\n",
        "\n",
        "from abc import ABC\n",
        "\n",
        "class Animal(ABC): #inherit from abc\n",
        "    @abstractmethod\n",
        "    def sound(self):\n",
        "      Pass"
      ],
      "metadata": {
        "id": "eAxBDf0dXHOX"
      }
    },
    {
      "cell_type": "markdown",
      "source": [
        "Q16. What are the advantages of OOP?\n",
        "\n",
        "Ans: The advantages of oops are:\n",
        "\n",
        "* Modularity\n",
        "* Reusability\n",
        "* Encapsulation\n",
        "* Polymorphism\n",
        "* Inheritance\n",
        "* Maintainabilty\n",
        "* Abstraction\n"
      ],
      "metadata": {
        "id": "CM9-l9oQYsOk"
      }
    },
    {
      "cell_type": "markdown",
      "source": [
        "Q17.What is the difference between a class variable and an instance variable?\n",
        "\n",
        "Ans:In oops ,class variables and instance variables are both used to store data in a class -but they both are not same .\n",
        "\n",
        "Class variable:\n",
        "\n",
        "* Shared across all instances of a class.\n",
        "* belongs to the class ittself.\n",
        "* Defined outside any instance method,typically right below the class definition.\n",
        "\n",
        "Instance Variable:\n",
        "\n",
        "* Unique to each object.\n",
        "* Belongs to the object ,not the class.\n",
        "* Defined using self inside __ init __() method or other instance methods.\n"
      ],
      "metadata": {
        "id": "IPovocB0aup6"
      }
    },
    {
      "cell_type": "markdown",
      "source": [
        "Q18. What is multiple inheritance in Python?\n",
        "\n",
        "Ans:Multiple Inheritance : one child inherits from multiple parents.This means a child class can combine the features(attributes and methods) of multiple base classes.\n",
        "\n",
        "E.g:class Parent1:\n",
        "  def method1(self):\n",
        "    print(\"Method from Parent1\")\n",
        "\n",
        "class Parent2:\n",
        "  def method2(self):\n",
        "    print(\"Method from Parent2\")\n",
        "Class Child(Parent1,Parent2):\n",
        "  pass\n",
        "\n",
        "c=Child()\n",
        "c.method1()\n",
        "c.method2()\n",
        "\n",
        "O/p:Method from Parent1\n",
        "\n",
        "Method from Parent2"
      ],
      "metadata": {
        "id": "6XgcSUQLb8Tb"
      }
    },
    {
      "cell_type": "markdown",
      "source": [
        "Q19.Explain the purpose of ‘’__str__’ and ‘__repr__’ ‘ methods in Python?\n",
        "\n",
        "Ans:in python ,both    __ str __ () and __ repr__ () are dunder methods used to define how your objects are represented as strings\n",
        "\n",
        "1)  __ str __ (self):\n",
        "\n",
        "* defines the user friendly or readable string representation of an object.\n",
        "* called by the print() function and str()\n",
        "\n",
        "\n",
        "2) __ repr __(self):\n",
        "\n",
        "* Defines the official ,devloper facing string representation of object.\n",
        "* called by repr(),or when inspecting  objects in the consoles,logs etc..\n"
      ],
      "metadata": {
        "id": "CB3hAlfydRPx"
      }
    },
    {
      "cell_type": "markdown",
      "source": [
        "Q20.What is the significance of the ‘super()’ function in Python?\n",
        "\n",
        "Ans: The super() function in python is used to call methods from a parent in a child class .it allows you to access inherited methods without eplicitly naming the parent class.\n",
        "\n",
        "Syntax: super().method_name(arguments)"
      ],
      "metadata": {
        "id": "z6WRSo-ueyN8"
      }
    },
    {
      "cell_type": "markdown",
      "source": [
        "Q21.  What is the significance of the __del__ method in Python?\n",
        "\n",
        "Ans:The __ del __() method in python is a special(dunder) method known as the destructor.It is automatically called when an object is about to be destroyed,allowing you to perform cleanup actions.\n",
        "\n",
        "Syntax:\n",
        "\n",
        "def __ del__ (self):"
      ],
      "metadata": {
        "id": "qAZmrumLfio-"
      }
    },
    {
      "cell_type": "markdown",
      "source": [
        "Q22.What is the difference between @staticmethod and @classmethod in Python?\n",
        "\n",
        "Ans: Both @staticmethod and @classmethod are decorators used to define methods that arent regular instance methods,but they serve differently and behave differently.\n",
        "\n",
        "1.@classmethod:\n",
        "\n",
        "* belongs to the class,not the instance\n",
        "* Takes cls as the first argument\n",
        "* Can access or modify class variables.\n",
        "* can be called on the class or an instance.\n",
        "\n",
        "2.@staticmethod:\n",
        "\n",
        "* Also belongs to the class ,but doesnot takes self,cls.\n",
        "* Behaves like a regulare function,but lives inside the class namespace\n",
        "* cannot access instance(self) or class(cls) data\n",
        "*used for utility/helper functions related to the class."
      ],
      "metadata": {
        "id": "pANT9m_ugQMo"
      }
    },
    {
      "cell_type": "markdown",
      "source": [
        "Q23.How does polymorphism work in Python with inheritance?\n",
        "\n",
        "Ans:Polymorphism is a key pillar of oop that allows objects of different classes to be treated as objects of a common super class.\n",
        "\n",
        "How it works with Inheritance:\n",
        "\n",
        "When a child class overrides a method from its parent class,and you use a common reference to call that method--python uses the actual objects version of the method"
      ],
      "metadata": {
        "id": "WwTaBKj-h0ez"
      }
    },
    {
      "cell_type": "markdown",
      "source": [
        "Q24. What is method chaining in Python OOP?\n",
        "\n",
        "Ans: Method chaining is a programming technique where multiple methods are called on the same object in a single line ,one after another.\n",
        "\n",
        "Each method returns the object itself(self),allowing the next method to be called on that same object--like links in a chain.\n",
        "\n",
        "Syntax:\n",
        "\n",
        "object.method1().method2().method3()\n"
      ],
      "metadata": {
        "id": "6PIB1D5Cisfr"
      }
    },
    {
      "cell_type": "markdown",
      "source": [
        "Q25. What is the purpose of the __call__ method in Python?\n",
        "\n",
        "Ans: The __ call __() in a class you can call instances of that class using parentheses() - just like you'd call a regular function.\n",
        "\n",
        "Use __ call __():\n",
        "\n",
        "* To make objects behave like functions.\n",
        "* to build customizable function like objects\n",
        "* to create a clean and flexible interface for objects."
      ],
      "metadata": {
        "id": "apE6VZwcjew9"
      }
    },
    {
      "cell_type": "markdown",
      "source": [
        "                      **Practical** **Questions**"
      ],
      "metadata": {
        "id": "H_HCQnl_kUIt"
      }
    },
    {
      "cell_type": "markdown",
      "source": [
        "Q1.Create a parent class Animal with a method speak() that prints a generic message. Create a child class Dog\n",
        "that overrides the speak() method to print \"Bark!\"."
      ],
      "metadata": {
        "id": "tHGZV8cHkcwZ"
      }
    },
    {
      "cell_type": "code",
      "source": [
        "# Create a parent class Animal with a method speak() that prints a generic message. Create a child class Dog\n",
        "#that overrides the speak() method to print \"Bark!\".\n",
        "\n",
        "class Animal:\n",
        "  def speak(self):\n",
        "    print(\"Generic message\")\n",
        "\n",
        "class Dog(Animal):\n",
        "  def speak(self):\n",
        "    print(\"Bark!\")\n",
        "\n",
        "dog = Dog()\n",
        "dog.speak()\n"
      ],
      "metadata": {
        "colab": {
          "base_uri": "https://localhost:8080/"
        },
        "id": "ZmV1Kirckiyr",
        "outputId": "9436518c-fd1c-4d85-b44d-bf3fc8fcec2c"
      },
      "execution_count": null,
      "outputs": [
        {
          "output_type": "stream",
          "name": "stdout",
          "text": [
            "Bark!\n"
          ]
        }
      ]
    },
    {
      "cell_type": "markdown",
      "source": [
        "Q2.Write a program to create an abstract class Shape with a method area(). Derive classes Circle and Rectangle\n",
        "from it and implement the area() method in both?"
      ],
      "metadata": {
        "id": "KrecPbmykvQ4"
      }
    },
    {
      "cell_type": "code",
      "source": [
        "#Write a program to create an abstract class Shape with a method area(). Derive classes Circle and Rectangle\n",
        "#from it and implement the area() method in both\n",
        "\n",
        "from abc import ABC,abstractmethod\n",
        "\n",
        "class Shape(ABC):\n",
        "  @abstractmethod\n",
        "  def area(self):\n",
        "    pass\n",
        "\n",
        "class Circle(Shape):\n",
        "  def __init__(self,radius):\n",
        "    self.radius = radius\n",
        "\n",
        "  def area(self):\n",
        "    return 3.14 * self.radius * self.radius\n",
        "\n",
        "class Rectangle(Shape):\n",
        "  def __init__(self,length,width):\n",
        "    self.length = length\n",
        "    self.width = width\n",
        "\n",
        "  def area(self):\n",
        "    return self.length * self.width\n",
        "\n",
        "circle = Circle(9)\n",
        "print(\"Area of Circle is : \",circle.area())\n",
        "\n",
        "rectangle = Rectangle(14,18)\n",
        "print(\"Area of rectangle is : \",rectangle.area())"
      ],
      "metadata": {
        "colab": {
          "base_uri": "https://localhost:8080/"
        },
        "id": "nkSLvU6Bk1Mp",
        "outputId": "f405049d-aaa3-47d2-a0f5-1d40cceeca36"
      },
      "execution_count": null,
      "outputs": [
        {
          "output_type": "stream",
          "name": "stdout",
          "text": [
            "Area of Circle is :  254.34\n",
            "Area of rectangle is :  252\n"
          ]
        }
      ]
    },
    {
      "cell_type": "markdown",
      "source": [
        "Q3. Implement a multi-level inheritance scenario where a class Vehicle has an attribute type. Derive a class Car\n",
        "and further derive a class ElectricCar that adds a battery attribute."
      ],
      "metadata": {
        "id": "l2v60E2klzO0"
      }
    },
    {
      "cell_type": "code",
      "source": [
        "# 3. Implement a multi-level inheritance scenario where a class Vehicle has an attribute type. Derive a class Car\n",
        "#and further derive a class ElectricCar that adds a battery attribute.\n",
        "\n",
        "class Vehicle:\n",
        "  def __init__(self,type):\n",
        "    self.type = type\n",
        "class Car(Vehicle):\n",
        "  def __init__(self,type,model):\n",
        "    super().__init__(type)\n",
        "    self.model = model\n",
        "class ElectricCar(Car):\n",
        "  def __init__(self,type,model,battery):\n",
        "    super().__init__(type,model)\n",
        "    self.battery = battery\n",
        "car = ElectricCar(\"Tata\",\"Punch\",\"lethium\")\n",
        "print(car.type)\n",
        "print(car.model)\n",
        "print(car.battery)"
      ],
      "metadata": {
        "colab": {
          "base_uri": "https://localhost:8080/"
        },
        "id": "NF84wfrNl2Yw",
        "outputId": "68d5c223-055c-4956-87e7-3373e50b9ed4"
      },
      "execution_count": null,
      "outputs": [
        {
          "output_type": "stream",
          "name": "stdout",
          "text": [
            "Tata\n",
            "Punch\n",
            "lethium\n"
          ]
        }
      ]
    },
    {
      "cell_type": "markdown",
      "source": [
        "Q4.Demonstrate polymorphism by creating a base class Bird with a method fly(). Create two derived classes\n",
        "Sparrow and Penguin that override the fly() method.\n"
      ],
      "metadata": {
        "id": "uEVQS066mYzx"
      }
    },
    {
      "cell_type": "code",
      "source": [
        "#Demonstrate polymorphism by creating a base class Bird with a method fly(). Create two derived classes\n",
        "#Sparrow and Penguin that override the fly() method.\n",
        "\n",
        "class Bird:\n",
        "  def fly(self):\n",
        "    print(\"Some Birds can fly\")\n",
        "\n",
        "class Sparrow(Bird):\n",
        "  def fly(self):\n",
        "    print(\"Sparrows fly high\")\n",
        "\n",
        "class Penguin(Bird):\n",
        "  def fly(self):\n",
        "    print(\"Penguins cannot fly they can swim\")\n",
        "\n",
        "def bird_fly(bird):\n",
        "  bird.fly()\n",
        "\n",
        "\n",
        "sparrow = Sparrow()\n",
        "\n",
        "penguin = Penguin()\n",
        "\n",
        "bird_fly(sparrow)\n",
        "bird_fly(penguin)\n"
      ],
      "metadata": {
        "colab": {
          "base_uri": "https://localhost:8080/"
        },
        "id": "AHAv-6F_mc9t",
        "outputId": "bdc5602a-3f78-4212-db42-e394a7d8e905"
      },
      "execution_count": null,
      "outputs": [
        {
          "output_type": "stream",
          "name": "stdout",
          "text": [
            "Sparrows fly high\n",
            "Penguins cannot fly they can swim\n"
          ]
        }
      ]
    },
    {
      "cell_type": "markdown",
      "source": [
        "Q5. Write a program to demonstrate encapsulation by creating a class BankAccount with private attributes\n",
        "balance and methods to deposit, withdraw, and check balance."
      ],
      "metadata": {
        "id": "nyj0CDkAnpHD"
      }
    },
    {
      "cell_type": "code",
      "source": [
        "# Write a program to demonstrate encapsulation by creating a class BankAccount with private attributes\n",
        "#balance and methods to deposit, withdraw, and check balance.\n",
        "\n",
        "class Bank:\n",
        "  def __init__(self,balance):\n",
        "    self.__balance = balance\n",
        "  def deposit(self,amount):\n",
        "    self.__balance += amount\n",
        "  def withdraw(self,amount):\n",
        "    if amount <= self.__balance:\n",
        "      self.__balance -= amount\n",
        "    else:\n",
        "      print(\"Insufficient balance\")\n",
        "  def check_balance(self):\n",
        "    return self.__balance\n",
        "\n",
        "B= Bank(1000)\n",
        "print(\" The Balance in the account is:\",B.check_balance())\n",
        "B.deposit(500)\n",
        "print(\" The Balance in the account after deposit :\",B.check_balance())\n",
        "B.withdraw(200)\n",
        "print(\" The Balance in  the acount after withdrawl is :\",B.check_balance())\n",
        "\n",
        "B.withdraw(1500)\n"
      ],
      "metadata": {
        "colab": {
          "base_uri": "https://localhost:8080/"
        },
        "id": "uyHuAtIrnuO6",
        "outputId": "eceee406-86b6-4966-efb5-c9f29bef016e"
      },
      "execution_count": null,
      "outputs": [
        {
          "output_type": "stream",
          "name": "stdout",
          "text": [
            " The Balance in the account is: 1000\n",
            " The Balance in the account after deposit : 1500\n",
            " The Balance in  the acount after withdrawl is : 1300\n",
            "Insufficient balance\n"
          ]
        }
      ]
    },
    {
      "cell_type": "markdown",
      "source": [
        "Q6. Demonstrate runtime polymorphism using a method play() in a base class Instrument. Derive classes Guitar\n",
        "and Piano that implement their own version of play()."
      ],
      "metadata": {
        "id": "Koj2ACq8zAvq"
      }
    },
    {
      "cell_type": "code",
      "source": [
        "#Demonstrate runtime polymorphism using a method play() in a base class Instrument. Derive classes Guitar\n",
        "#and Piano that implement their own version of play().\n",
        "\n",
        "class instrument:\n",
        "  def play(self):\n",
        "    print(\"Playing and instrument.\")\n",
        "class Guitar(instrument):\n",
        "  def play(self):\n",
        "    print(\"Playing Guitar\")\n",
        "class Piano(instrument):\n",
        "  def play(self):\n",
        "    print(\"Playing Piano\")\n",
        "\n",
        "def start_playing(instrument):\n",
        "  instrument.play()\n",
        "\n",
        "guitar=Guitar()\n",
        "piano=Piano()\n",
        "\n",
        "start_playing(guitar)\n",
        "start_playing(piano)\n"
      ],
      "metadata": {
        "colab": {
          "base_uri": "https://localhost:8080/"
        },
        "id": "9CQrrgoXzGjR",
        "outputId": "f028f58c-8faa-4638-cb5e-026d29e8ee12"
      },
      "execution_count": null,
      "outputs": [
        {
          "output_type": "stream",
          "name": "stdout",
          "text": [
            "Playing Guitar\n",
            "Playing Piano\n"
          ]
        }
      ]
    },
    {
      "cell_type": "markdown",
      "source": [
        "Q7.Create a class MathOperations with a class method add_numbers() to add two numbers and a static\n",
        "method subtract_numbers() to subtract two numbers."
      ],
      "metadata": {
        "id": "EnaX9A4700Vv"
      }
    },
    {
      "cell_type": "code",
      "source": [
        "#Create a class MathOperations with a class method add_numbers() to add two numbers and a static\n",
        "#method subtract_numbers() to subtract two numbers.\n",
        "\n",
        "class MathOperations:\n",
        "  @classmethod\n",
        "  def add_numbers(cls,a,b):\n",
        "    return a+b\n",
        "  @staticmethod\n",
        "  def subtract_numbers(a,b):\n",
        "    return a-b\n",
        "\n",
        "print(MathOperations.add_numbers(20,20))\n",
        "print(MathOperations.subtract_numbers(30,20))"
      ],
      "metadata": {
        "colab": {
          "base_uri": "https://localhost:8080/"
        },
        "id": "Kuy7WJ0_06M4",
        "outputId": "3bb98831-e476-4e64-9bf0-4f6cdcea11ec"
      },
      "execution_count": null,
      "outputs": [
        {
          "output_type": "stream",
          "name": "stdout",
          "text": [
            "40\n",
            "10\n"
          ]
        }
      ]
    },
    {
      "cell_type": "markdown",
      "source": [
        "Q8.Implement a class Person with a class method to count the total number of persons created."
      ],
      "metadata": {
        "id": "U5H9jP2K1JTb"
      }
    },
    {
      "cell_type": "code",
      "source": [
        "# Implement a class Person with a class method to count the total number of persons created.\n",
        "\n",
        "class Person:\n",
        "  count = 0\n",
        "  def __init__(self,name):\n",
        "    self.name = name\n",
        "    Person.count = Person.count + 1\n",
        "  @classmethod\n",
        "  def total_persons(cls):\n",
        "    return cls.count\n",
        "\n",
        "p1=Person(\"Prudhvi\")\n",
        "p2=Person(\"Akash\")\n",
        "p3=Person(\"Sai\")\n",
        "\n",
        "Person.total_persons()"
      ],
      "metadata": {
        "colab": {
          "base_uri": "https://localhost:8080/"
        },
        "id": "yKnu9dnu1ORW",
        "outputId": "fc3e89e1-5b64-4c87-d952-69569e55d55b"
      },
      "execution_count": null,
      "outputs": [
        {
          "output_type": "execute_result",
          "data": {
            "text/plain": [
              "3"
            ]
          },
          "metadata": {},
          "execution_count": 21
        }
      ]
    },
    {
      "cell_type": "markdown",
      "source": [
        "Q9.Write a class Fraction with attributes numerator and denominator. Override the str method to display the\n",
        "fraction as \"numerator/denominator\"."
      ],
      "metadata": {
        "id": "j4G55_Mz2LpJ"
      }
    },
    {
      "cell_type": "code",
      "source": [
        "#Write a class Fraction with attributes numerator and denominator. Override the str method to display the\n",
        "#fraction as \"numerator/denominator\".\n",
        "class Fraction:\n",
        "  def __init__(self,numerator,denominator):\n",
        "    self.numerator = numerator\n",
        "    self.denominator = denominator\n",
        "  def __str__(self):\n",
        "    return f\"{self.numerator}/{self.denominator}\"\n",
        "\n",
        "f1 = Fraction(3,2)\n",
        "f1.fraction = str(f1)\n",
        "print(f1.fraction)"
      ],
      "metadata": {
        "colab": {
          "base_uri": "https://localhost:8080/"
        },
        "id": "bLNBmAgs2QNx",
        "outputId": "d1e68ca8-74dc-42ed-f5dd-26e340507b18"
      },
      "execution_count": null,
      "outputs": [
        {
          "output_type": "stream",
          "name": "stdout",
          "text": [
            "3/2\n"
          ]
        }
      ]
    },
    {
      "cell_type": "markdown",
      "source": [
        "Q10.  Demonstrate operator overloading by creating a class Vector and overriding the add method to add two\n",
        "vectors."
      ],
      "metadata": {
        "id": "9ZPCpDVz20Fo"
      }
    },
    {
      "cell_type": "code",
      "source": [
        "#10. Demonstrate operator overloading by creating a class Vector and overriding the add method to add two\n",
        "#vectors.\n",
        "\n",
        "class Vector:\n",
        "  def __init__(self,x,y):\n",
        "    self.x = x\n",
        "    self.y = y\n",
        "  def __add__(self,other):\n",
        "    return Vector(self.x + other.x,self.y + other.y)\n",
        "\n",
        "  def __str__(self):\n",
        "    return f\"({self.x},{self.y})\"\n",
        "\n",
        "X1=Vector(2,6)\n",
        "X2=Vector(4,8)\n",
        "X3=X1+X2\n",
        "print(X3)\n"
      ],
      "metadata": {
        "colab": {
          "base_uri": "https://localhost:8080/"
        },
        "id": "OgnMyHo-2zpH",
        "outputId": "8099f362-a89a-4b01-f9da-b9cf0e4e926f"
      },
      "execution_count": null,
      "outputs": [
        {
          "output_type": "stream",
          "name": "stdout",
          "text": [
            "(6,14)\n"
          ]
        }
      ]
    },
    {
      "cell_type": "markdown",
      "source": [
        "Q11. Create a class Person with attributes name and age. Add a method greet() that prints \"Hello, my name is\n",
        "{name} and I am {age} years old.\""
      ],
      "metadata": {
        "id": "sRhTfpCX3rGT"
      }
    },
    {
      "cell_type": "code",
      "source": [
        "# Create a class Person with attributes name and age. Add a method greet() that prints \"Hello, my name is\n",
        "#{name} and I am {age} years old.\"\n",
        "\n",
        "class Person:\n",
        "  def __init__(self,name,age):\n",
        "    self.name = name\n",
        "    self.age = age\n",
        "  def greet(self):\n",
        "    print(f\"Hello, my name is {self.name} and I am {self.age} years old.\")\n",
        "\n",
        "per=Person(\"Prudhvi\",28)\n",
        "per.greet()"
      ],
      "metadata": {
        "colab": {
          "base_uri": "https://localhost:8080/"
        },
        "id": "EOXXE5sb3vrg",
        "outputId": "bee0cb6f-c15f-4199-fcd3-8075c022890f"
      },
      "execution_count": null,
      "outputs": [
        {
          "output_type": "stream",
          "name": "stdout",
          "text": [
            "Hello, my name is Prudhvi and I am 28 years old.\n"
          ]
        }
      ]
    },
    {
      "cell_type": "markdown",
      "source": [
        "Q12. Implement a class Student with attributes name and grades. Create a method average_grade() to compute\n",
        "the average of the grades."
      ],
      "metadata": {
        "id": "2OnRh0A64p7d"
      }
    },
    {
      "cell_type": "code",
      "source": [
        "#12. Implement a class Student with attributes name and grades. Create a method average_grade() to compute\n",
        "#the average of the grades.\n",
        "\n",
        "class Student:\n",
        "  def __init__(self,name,grades):\n",
        "    self.name = name\n",
        "    self.grades = grades\n",
        "  def average_grade(self):\n",
        "    return sum(self.grades)/len(self.grades)\n",
        "\n",
        "S1=Student(\"Prudhvi\",[99,87,79])\n",
        "\n",
        "print (f\"Student Name: {S1.name}\")\n",
        "print (f\"Student Grades: {S1.grades}\")\n",
        "print (f\"Student Average Grade: {S1.average_grade()}\")\n"
      ],
      "metadata": {
        "colab": {
          "base_uri": "https://localhost:8080/"
        },
        "id": "GstCrmVe4w1J",
        "outputId": "54e1fd0e-cc94-405d-9cc2-29d86627e16e"
      },
      "execution_count": null,
      "outputs": [
        {
          "output_type": "stream",
          "name": "stdout",
          "text": [
            "Student Name: Prudhvi\n",
            "Student Grades: [99, 87, 79]\n",
            "Student Average Grade: 88.33333333333333\n"
          ]
        }
      ]
    },
    {
      "cell_type": "markdown",
      "source": [
        "Q13. Create a class Rectangle with methods set_dimensions() to set the dimensions and area() to calculate the\n",
        "area."
      ],
      "metadata": {
        "id": "kB7qH8Wr6FB7"
      }
    },
    {
      "cell_type": "code",
      "source": [
        "# Create a class Rectangle with methods set_dimensions() to set the dimensions and area() to calculate the\n",
        "#area.\n",
        "\n",
        "class Rectangle:\n",
        "  def __init__(self):\n",
        "    self.length = 0\n",
        "    self.width = 0\n",
        "  def set_dimensions(self,length,width):\n",
        "    self.length = length\n",
        "    self.width = width\n",
        "  def area(self):\n",
        "    return self.length * self.width\n",
        "\n",
        "rect= Rectangle()\n",
        "rect.set_dimensions(22,20)\n",
        "print(f\"Length: {rect.length}\")\n",
        "print(f\"Width: {rect.width}\")\n",
        "print(f\"Area: {rect.area()}\")\n",
        "\n",
        "\n"
      ],
      "metadata": {
        "colab": {
          "base_uri": "https://localhost:8080/"
        },
        "id": "87i9zF9J6J8P",
        "outputId": "a9e538c5-1889-43d3-ab9b-6df83415dac7"
      },
      "execution_count": null,
      "outputs": [
        {
          "output_type": "stream",
          "name": "stdout",
          "text": [
            "Length: 22\n",
            "Width: 20\n",
            "Area: 440\n"
          ]
        }
      ]
    },
    {
      "cell_type": "markdown",
      "source": [
        "Q14.Create a class Employee with a method calculate_salary() that computes the salary based on hours worked\n",
        "and hourly rate. Create a derived class Manager that adds a bonus to the salary."
      ],
      "metadata": {
        "id": "YfkhPYDw7WkW"
      }
    },
    {
      "cell_type": "code",
      "source": [
        "#Create a class Employee with a method calculate_salary() that computes the salary based on hours worked\n",
        "#and hourly rate. Create a derived class Manager that adds a bonus to the salary.\n",
        "\n",
        "class Employee:\n",
        "  def __init__(self,name,hours_worked,hourly_rate):\n",
        "    self.name = name\n",
        "    self.hours_worked = hours_worked\n",
        "    self.hourly_rate = hourly_rate\n",
        "  def calculate_salary(self):\n",
        "    return self.hours_worked * self.hourly_rate\n",
        "\n",
        "class Manager(Employee):\n",
        "  def __init__(self,name,hours_worked,hourly_rate,bonus):\n",
        "    super().__init__(name,hours_worked,hourly_rate)\n",
        "    self.bonus = bonus\n",
        "  def calculate_salary(self):\n",
        "    return super().calculate_salary() + self.bonus\n",
        "\n",
        "emp=Employee(\"Prudhvi\",20,20)\n",
        "mgr=Manager(\"Aksh\",40,35,20)\n",
        "print (f\"Employee Name: {emp.name}\")\n",
        "print (f\"Employee Hours Worked: {emp.hours_worked}\")\n",
        "print (f\"Employee Hourly Rate: {emp.hourly_rate}\")\n",
        "print (f\"Employee Salary: {emp.calculate_salary()}\")\n",
        "print (f\"Manager Name: {mgr.name}\")\n",
        "print (f\"Manager Hours Worked: {mgr.hours_worked}\")\n",
        "print (f\"Manager Hourly Rate: {mgr.hourly_rate}\")\n",
        "print (f\"Manager Bonus: {mgr.bonus}\")"
      ],
      "metadata": {
        "colab": {
          "base_uri": "https://localhost:8080/"
        },
        "id": "22kF2Ioz7bfv",
        "outputId": "a4e9fc7f-ebc0-4744-f290-cfff793fde9b"
      },
      "execution_count": null,
      "outputs": [
        {
          "output_type": "stream",
          "name": "stdout",
          "text": [
            "Employee Name: Prudhvi\n",
            "Employee Hours Worked: 20\n",
            "Employee Hourly Rate: 20\n",
            "Employee Salary: 400\n",
            "Manager Name: Aksh\n",
            "Manager Hours Worked: 40\n",
            "Manager Hourly Rate: 35\n",
            "Manager Bonus: 20\n"
          ]
        }
      ]
    },
    {
      "cell_type": "markdown",
      "source": [
        "Q15. Create a class Product with attributes name, price, and quantity. Implement a method total_price() that\n",
        "calculates the total price of the product."
      ],
      "metadata": {
        "id": "hT1z_wah8zOR"
      }
    },
    {
      "cell_type": "code",
      "source": [
        "# Create a class Product with attributes name, price, and quantity. Implement a method total_price() that\n",
        "#calculates the total price of the product.\n",
        "\n",
        "class Product:\n",
        "  def __init__(self,name,price,quantity):\n",
        "    self.name = name\n",
        "    self.price = price\n",
        "    self.quantity = quantity\n",
        "  def total_price(self):\n",
        "    return self.price * self.quantity\n",
        "\n",
        "P1=Product(\"camera\",25000,2)\n",
        "print (f\"Product Name: {P1.name}\")\n",
        "print (f\"Product Price: {P1.price}\")\n",
        "print (f\"Product Quantity: {P1.quantity}\")\n",
        "print (f\"Product Total Price: {P1.total_price()}\")\n",
        "#"
      ],
      "metadata": {
        "colab": {
          "base_uri": "https://localhost:8080/"
        },
        "id": "gjfjAGxt8510",
        "outputId": "85c6c9b6-6073-4181-e060-909454ac8879"
      },
      "execution_count": null,
      "outputs": [
        {
          "output_type": "stream",
          "name": "stdout",
          "text": [
            "Product Name: camera\n",
            "Product Price: 25000\n",
            "Product Quantity: 2\n",
            "Product Total Price: 50000\n"
          ]
        }
      ]
    },
    {
      "cell_type": "markdown",
      "source": [
        "Q16.Create a class Animal with an abstract method sound(). Create two derived classes Cow and Sheep that\n",
        "implement the sound() method."
      ],
      "metadata": {
        "id": "Ana7Ya3e9YEI"
      }
    },
    {
      "cell_type": "code",
      "source": [
        "#Create a class Animal with an abstract method sound(). Create two derived classes Cow and Sheep that\n",
        "#implement the sound() method.\n",
        "\n",
        "from abc import ABC,abstractmethod\n",
        "\n",
        "class Animal:\n",
        "  @abstractmethod\n",
        "  def sound(self):\n",
        "    pass\n",
        "\n",
        "class Cow(Animal):\n",
        "  def sound(self):\n",
        "    print(\" The cow says :Moo\")\n",
        "\n",
        "class Sheep(Animal):\n",
        "  def sound(self):\n",
        "    print(\" The sheep says :Baa\")\n",
        "\n",
        "cow= Cow()\n",
        "sheep= Sheep()\n",
        "cow.sound()\n",
        "sheep.sound()\n",
        "\n"
      ],
      "metadata": {
        "colab": {
          "base_uri": "https://localhost:8080/"
        },
        "id": "0q8QYCbl9hgw",
        "outputId": "2ffe26fd-a0e4-4636-ce36-d1c1ad4eb294"
      },
      "execution_count": null,
      "outputs": [
        {
          "output_type": "stream",
          "name": "stdout",
          "text": [
            " The cow says :Moo\n",
            " The sheep says :Baa\n"
          ]
        }
      ]
    },
    {
      "cell_type": "markdown",
      "source": [
        "Q17. Create a class Book with attributes title, author, and year_published. Add a method get_book_info() that\n",
        "returns a formatted string with the book's details."
      ],
      "metadata": {
        "id": "eQZQrZNq-E0G"
      }
    },
    {
      "cell_type": "code",
      "source": [
        "# Create a class Book with attributes title, author, and year_published. Add a method get_book_info() that\n",
        "#returns a formatted string with the book's details.\n",
        "\n",
        "class Book:\n",
        "  def __init__(self,title,author,year_published):\n",
        "    self.title = title\n",
        "    self.author = author\n",
        "    self.year_published = year_published\n",
        "\n",
        "  def get_book_info(self):\n",
        "    return f\"Title: {self.title} by  {self.author} Published in  {self.year_published}\"\n",
        "\n",
        "book=Book(\"The Alchemist\",\"Paulo Coelho\",1988)\n",
        "print(book.get_book_info())\n",
        "\n"
      ],
      "metadata": {
        "colab": {
          "base_uri": "https://localhost:8080/"
        },
        "id": "fyBJ9153-Igv",
        "outputId": "cc8b9054-8cbd-4b92-8432-ea7c03d058b8"
      },
      "execution_count": null,
      "outputs": [
        {
          "output_type": "stream",
          "name": "stdout",
          "text": [
            "Title: The Alchemist by  Paulo Coelho Published in  1988\n"
          ]
        }
      ]
    },
    {
      "cell_type": "markdown",
      "source": [
        "Q18. Create a class House with attributes address and price. Create a derived class Mansion that adds an\n",
        "attribute number_of_rooms"
      ],
      "metadata": {
        "id": "vKH1IZC2_bIv"
      }
    },
    {
      "cell_type": "code",
      "source": [
        "# Create a class House with attributes address and price. Create a derived class Mansion that adds an\n",
        "#attribute number_of_rooms\n",
        "\n",
        "class House:\n",
        "  def __init__(self,address,price):\n",
        "    self.address = address\n",
        "    self.price = price\n",
        "  def get_details(self):\n",
        "    return f\"Address: {self.address} Price: {self.price}\"\n",
        "class Mansion(House):\n",
        "  def __init__(self,address,price,number_of_rooms):\n",
        "    super().__init__(address,price)\n",
        "    self.number_of_rooms = number_of_rooms\n",
        "\n",
        "    def get_details(self):\n",
        "     return f\"Address: {self.address} Price: {self.price} Number of Rooms: {self.number_of_rooms}\"\n",
        "\n",
        "house=House(\" xyz royal road\",500000)\n",
        "print(house.get_details())\n",
        "\n",
        "mansion=Mansion(\" xyz royal academy \",50000000,10)\n",
        "print(mansion.get_details())\n"
      ],
      "metadata": {
        "colab": {
          "base_uri": "https://localhost:8080/"
        },
        "id": "LOI7R6QP_elh",
        "outputId": "5f4e7eea-4832-4ca1-c9b8-f7dc1980f774"
      },
      "execution_count": null,
      "outputs": [
        {
          "output_type": "stream",
          "name": "stdout",
          "text": [
            "Address:  xyz royal road Price: 500000\n",
            "Address:  xyz royal academy  Price: 50000000\n"
          ]
        }
      ]
    }
  ]
}